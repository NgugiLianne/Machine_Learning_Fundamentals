{
 "cells": [
  {
   "cell_type": "markdown",
   "metadata": {},
   "source": [
    "# Gaussian generative models for handwritten digit classification"
   ]
  },
  {
   "cell_type": "markdown",
   "metadata": {},
   "source": [
    "Recall that the 1-NN classifier yielded a 3.09% test error rate on the MNIST data set of handwritten digits. We will now see that a Gaussian generative model does almost as well, while being significantly faster and more compact."
   ]
  },
  {
   "cell_type": "markdown",
   "metadata": {},
   "source": [
    "## 1. Set up notebook and load in data"
   ]
  },
  {
   "cell_type": "markdown",
   "metadata": {},
   "source": [
    "As usual, we start by importing the required packages and data. For this notebook we will be using the *entire* `MNIST` dataset. The code below defines some helper functions that will load `MNIST` onto your computer."
   ]
  },
  {
   "cell_type": "code",
   "execution_count": 7,
   "metadata": {},
   "outputs": [],
   "source": [
    "%matplotlib inline\n",
    "import sys\n",
    "import matplotlib.pyplot as plt \n",
    "import gzip, os\n",
    "import numpy as np\n",
    "from scipy.stats import multivariate_normal\n",
    "\n",
    "if sys.version_info[0] == 2:\n",
    "    from urllib import urlretrieve\n",
    "else:\n",
    "    from urllib.request import urlretrieve"
   ]
  },
  {
   "cell_type": "code",
   "execution_count": 2,
   "metadata": {},
   "outputs": [],
   "source": [
    "# Function that downloads a specified MNIST data file from Yann Le Cun's website\n",
    "def download(filename, source='http://yann.lecun.com/exdb/mnist/'):\n",
    "    print(\"Downloading %s\" % filename)\n",
    "    urlretrieve(source + filename, filename)\n",
    "\n",
    "# Invokes download() if necessary, then reads in images\n",
    "def load_mnist_images(filename):\n",
    "    if not os.path.exists(filename):\n",
    "        download(filename)\n",
    "    with gzip.open(filename, 'rb') as f:\n",
    "        data = np.frombuffer(f.read(), np.uint8, offset=16)\n",
    "    data = data.reshape(-1,784)\n",
    "    return data\n",
    "\n",
    "def load_mnist_labels(filename):\n",
    "    if not os.path.exists(filename):\n",
    "        download(filename)\n",
    "    with gzip.open(filename, 'rb') as f:\n",
    "        data = np.frombuffer(f.read(), np.uint8, offset=8)\n",
    "    return data"
   ]
  },
  {
   "cell_type": "markdown",
   "metadata": {},
   "source": [
    "Now load in the training set and test set"
   ]
  },
  {
   "cell_type": "code",
   "execution_count": 3,
   "metadata": {},
   "outputs": [
    {
     "name": "stdout",
     "output_type": "stream",
     "text": [
      "Downloading train-images-idx3-ubyte.gz\n",
      "Downloading train-labels-idx1-ubyte.gz\n",
      "Downloading t10k-images-idx3-ubyte.gz\n",
      "Downloading t10k-labels-idx1-ubyte.gz\n"
     ]
    }
   ],
   "source": [
    "## Load the training set\n",
    "train_data = load_mnist_images('train-images-idx3-ubyte.gz')\n",
    "train_labels = load_mnist_labels('train-labels-idx1-ubyte.gz')\n",
    "\n",
    "## Load the testing set\n",
    "test_data = load_mnist_images('t10k-images-idx3-ubyte.gz')\n",
    "test_labels = load_mnist_labels('t10k-labels-idx1-ubyte.gz')"
   ]
  },
  {
   "cell_type": "markdown",
   "metadata": {},
   "source": [
    "The function **displaychar** shows a single MNIST digit. To do this, it first has to reshape the 784-dimensional vector into a 28x28 image."
   ]
  },
  {
   "cell_type": "code",
   "execution_count": 4,
   "metadata": {},
   "outputs": [],
   "source": [
    "def displaychar(image):\n",
    "    plt.imshow(np.reshape(image, (28,28)), cmap=plt.cm.gray)\n",
    "    plt.axis('off')\n",
    "    plt.show()"
   ]
  },
  {
   "cell_type": "code",
   "execution_count": 5,
   "metadata": {},
   "outputs": [
    {
     "data": {
      "image/png": "[encoded data removed]",
      "text/plain": [
       "<Figure size 640x480 with 1 Axes>"
      ]
     },
     "metadata": {},
     "output_type": "display_data"
    }
   ],
   "source": [
    "displaychar(train_data[58])"
   ]
  },
  {
   "cell_type": "markdown",
   "metadata": {},
   "source": [
    "The training set consists of 60,000 images. Thus `train_data` should be a 60000x784 array while `train_labels` should be 60000x1. Let's check."
   ]
  },
  {
   "cell_type": "code",
   "execution_count": 6,
   "metadata": {},
   "outputs": [
    {
     "data": {
      "text/plain": [
       "((60000, 784), (60000,))"
      ]
     },
     "execution_count": 6,
     "metadata": {},
     "output_type": "execute_result"
    }
   ],
   "source": [
    "train_data.shape, train_labels.shape"
   ]
  },
  {
   "cell_type": "markdown",
   "metadata": {},
   "source": [
    "## 2. Fit a Gaussian generative model to the training data"
   ]
  },
  {
   "cell_type": "markdown",
   "metadata": {},
   "source": [
    "**<font color=\"magenta\">For you to do:</font>** Define a function, **fit_generative_model**, that takes as input a training set (data `x` and labels `y`) and fits a Gaussian generative model to it. It should return the parameters of this generative model; for each label `j = 0,1,...,9`, we have:\n",
    "* `pi[j]`: the frequency of that label\n",
    "* `mu[j]`: the 784-dimensional mean vector\n",
    "* `sigma[j]`: the 784x784 covariance matrix\n",
    "\n",
    "This means that `pi` is 10x1, `mu` is 10x784, and `sigma` is 10x784x784.\n",
    "\n",
    "We have already seen how to fit a Gaussian generative model in the Winery example, but now there is an added ingredient. <font color=\"magenta\">The empirical covariances are very likely to be singular (or close to singular), which means that we won't be able to do calculations with them</font>. Thus it is important to **regularize** these matrices. The standard way of doing this is to add `cI` to them, where `c` is some constant and `I` is the 784-dimensional identity matrix. (To put it another way, we compute the empirical covariances and then increase their diagonal entries by some constant `c`.)\n",
    "\n",
    "This modification is guaranteed to yield covariance matrices that are non-singular, for any `c > 0`, no matter how small. But this doesn't mean that we should make `c` as small as possible. Indeed, `c` is now a parameter, and by setting it appropriately, we can improve the performance of the model. We will study **regularization** in greater detail over the coming weeks.\n",
    "\n",
    "Your routine needs to choose a good setting of `c`. Crucially, this needs to be done using the training set alone. So you might try setting aside part of the training set as a validation set, or using some kind of cross-validation."
   ]
  },
  {
   "cell_type": "markdown",
   "metadata": {},
   "source": [
    "---\n",
    "\n",
    "**To implement the fit_generative_model function, we'll follow these steps:**\n",
    "\n",
    "- Calculate the frequency of each label.\n",
    "- Compute the mean vector for each label.\n",
    "- Estimate the covariance matrix for each label while regularizing it.\n",
    "- Choose an appropriate regularization parameter c.\n",
    "- Return the parameters of the generative model: pi, mu, and sigma.\n",
    "\n",
    "Here's the implementation:"
   ]
  },
  {
   "cell_type": "markdown",
   "metadata": {},
   "source": [
    "**Function Signature:**\n",
    "```python\n",
    "def fit_generative_model(x, y, c=1e-2):\n",
    "```\n",
    "- `x`: Input features (numpy array).\n",
    "- `y`: Labels (numpy array).\n",
    "- `c`: Regularization parameter, default value is `1e-2` (can be adjusted as needed).\n",
    "\n",
    "**Initialization:**\n",
    "```python\n",
    "k = 10  # Number of labels 0, 1, ..., k-1\n",
    "d = x.shape[1]  # Number of features\n",
    "\n",
    "mu = np.zeros((k, d))\n",
    "sigma = np.zeros((k, d, d))\n",
    "pi = np.zeros(k)\n",
    "```\n",
    "- `k`: Number of unique labels.\n",
    "- `d`: Number of features.\n",
    "- `mu`: Array to store mean vectors for each label.\n",
    "- `sigma`: Array to store covariance matrices for each label.\n",
    "- `pi`: Array to store the frequency of each label.\n",
    "\n",
    "**Loop Over Labels:**\n",
    "```python\n",
    "for label in range(k):\n",
    "```\n",
    "This loop iterates over each label (0 to 9 in this case).\n",
    "\n",
    "**Subsetting Data:**\n",
    "```python\n",
    "indices = (y == label)\n",
    "x_label = x[indices]\n",
    "```\n",
    "- `indices`: Boolean array indicating where `y` equals the current label.\n",
    "- `x_label`: Subset of input features corresponding to the current label.\n",
    "\n",
    "**Estimating Parameters:**\n",
    "```python\n",
    "pi[label] = len(x_label) / len(x)\n",
    "mu[label] = np.mean(x_label, axis=0)\n",
    "empirical_cov = np.cov(x_label, rowvar=False, bias=True)\n",
    "```\n",
    "- `pi[label]`: Estimate the frequency of the current label by dividing the count of instances with this label by the total number of instances.\n",
    "- `mu[label]`: Compute the mean vector of features for the current label.\n",
    "- `empirical_cov`: Compute the empirical covariance matrix for the current label using `np.cov`.\n",
    "\n",
    "**Regularization:**\n",
    "```python\n",
    "sigma[label] = empirical_cov + c * np.eye(d)\n",
    "```\n",
    "- Regularize the empirical covariance matrix by adding `c * np.eye(d)`, where `np.eye(d)` creates a `d x d` identity matrix.\n",
    "\n",
    "**Return Parameters:**\n",
    "```python\n",
    "return mu, sigma, pi\n",
    "```\n",
    "Return the mean vectors (`mu`), covariance matrices (`sigma`), and label frequencies (`pi`) as the output of the function.\n",
    "\n",
    "---"
   ]
  },
  {
   "cell_type": "code",
   "execution_count": 32,
   "metadata": {},
   "outputs": [],
   "source": [
    "\n",
    "\n",
    "def fit_generative_model(x, y, c=1e-2):\n",
    "    k = 10  # Number of labels 0, 1, ..., k-1\n",
    "    d = x.shape[1]  # Number of features\n",
    "\n",
    "    mu = np.zeros((k, d))\n",
    "    sigma = np.zeros((k, d, d))\n",
    "    pi = np.zeros(k)\n",
    "\n",
    "    for label in range(k):\n",
    "        indices = (y == label)\n",
    "        x_label = x[indices]\n",
    "        pi[label] = len(x_label) / len(x)\n",
    "\n",
    "        mu[label] = np.mean(x_label, axis=0)\n",
    "\n",
    "        # Compute the empirical covariance matrix\n",
    "        empirical_cov = np.cov(x_label, rowvar=False, bias=True)\n",
    "\n",
    "        # Regularize the covariance matrix\n",
    "        sigma[label] = empirical_cov + c * np.eye(d)\n",
    "   # Halt and return parameters\n",
    "    return mu, sigma, pi\n",
    "\n",
    " \n",
    " "
   ]
  },
  {
   "cell_type": "markdown",
   "metadata": {},
   "source": [
    "Okay, let's try out your function. In particular, we will use **displaychar** to visualize the means of the Gaussians for the first three digits. You can try the other digits on your own."
   ]
  },
  {
   "cell_type": "code",
   "execution_count": 33,
   "metadata": {},
   "outputs": [
    {
     "data": {
      "image/png": "[encoded data removed]",
      "text/plain": [
       "<Figure size 640x480 with 1 Axes>"
      ]
     },
     "metadata": {},
     "output_type": "display_data"
    },
    {
     "data": {
      "image/png": "[encoded data removed]",
      "text/plain": [
       "<Figure size 640x480 with 1 Axes>"
      ]
     },
     "metadata": {},
     "output_type": "display_data"
    },
    {
     "data": {
      "image/png": "[encoded data removed]",
      "text/plain": [
       "<Figure size 640x480 with 1 Axes>"
      ]
     },
     "metadata": {},
     "output_type": "display_data"
    }
   ],
   "source": [
    "mu, sigma, pi = fit_generative_model(train_data, train_labels)\n",
    "displaychar(mu[0])\n",
    "displaychar(mu[1])\n",
    "displaychar(mu[2])"
   ]
  },
  {
   "cell_type": "markdown",
   "metadata": {},
   "source": [
    "## 3. Make predictions on test data"
   ]
  },
  {
   "cell_type": "markdown",
   "metadata": {},
   "source": [
    "Now let's see how many errors your model makes on the test set."
   ]
  },
  {
   "cell_type": "code",
   "execution_count": 34,
   "metadata": {},
   "outputs": [
    {
     "name": "stdout",
     "output_type": "stream",
     "text": [
      "Your model makes 2190 errors out of 10000\n",
      "This is 21.9% error rate\n"
     ]
    }
   ],
   "source": [
    "# Compute log Pr(label|image) for each [test image,label] pair.\n",
    "k = 10\n",
    "score = np.zeros((len(test_labels),k))\n",
    "for label in range(0,k):\n",
    "    rv = multivariate_normal(mean=mu[label], cov=sigma[label])\n",
    "    for i in range(0,len(test_labels)):\n",
    "       score[i,label] = np.log(pi[label]) + rv.logpdf(test_data[i,:])\n",
    "predictions = np.argmax(score, axis=1)\n",
    "# Finally, tally up score\n",
    "errors = np.sum(predictions != test_labels)\n",
    "print(\"Your model makes \" + str(errors) + \" errors out of 10000\")\n",
    "print(\"This is \" + str(errors/100) + \"% error rate\")"
   ]
  },
  {
   "cell_type": "code",
   "execution_count": 35,
   "metadata": {},
   "outputs": [
    {
     "name": "stdout",
     "output_type": "stream",
     "text": [
      "Your model makes 2190 errors out of 10000\n",
      "This is 21.90% error rate\n"
     ]
    }
   ],
   "source": [
    "# Step 1: Compute log-likelihoods\n",
    "k = 10\n",
    "score = np.zeros((len(test_labels), k))\n",
    "\n",
    "for label in range(0, k):\n",
    "    rv = multivariate_normal(mean=mu[label], cov=sigma[label])\n",
    "    for i in range(0, len(test_labels)):\n",
    "        score[i, label] = np.log(pi[label]) + rv.logpdf(test_data[i, :])\n",
    "\n",
    "# Step 2: Assign labels\n",
    "predictions = np.argmax(score, axis=1)\n",
    "\n",
    "# Step 3: Evaluate performance\n",
    "errors = np.sum(predictions != test_labels)\n",
    "error_rate = errors / len(test_labels) * 100\n",
    "print(\"Your model makes {} errors out of {}\".format(errors, len(test_labels)))\n",
    "print(\"This is {:.2f}% error rate\".format(error_rate))\n"
   ]
  },
  {
   "cell_type": "code",
   "execution_count": 36,
   "metadata": {},
   "outputs": [
    {
     "name": "stdout",
     "output_type": "stream",
     "text": [
      "[7 2 1 ... 9 5 6]\n"
     ]
    }
   ],
   "source": [
    "print(predictions)"
   ]
  },
  {
   "cell_type": "markdown",
   "metadata": {},
   "source": [
    "## 4. Quick exercises"
   ]
  },
  {
   "cell_type": "markdown",
   "metadata": {},
   "source": [
    "*You will need to answer variants of these questions as part of this week's assignment*."
   ]
  },
  {
   "cell_type": "markdown",
   "metadata": {},
   "source": [
    "<font color=\"magenta\">Exercise 1:</font> What happens if you do not regularize the covariance matrices?"
   ]
  },
  {
   "cell_type": "markdown",
   "metadata": {},
   "source": [
    "\n",
    "\n",
    "**If you do not regularize the covariance matrices in a Gaussian generative model, several issues can arise:**\n",
    "\n",
    "1. **Singularity**: The empirical covariance matrices computed from the training data may be singular or nearly singular, especially if the number of training samples is small relative to the number of features. This singularity can lead to numerical instability and difficulties in computing the inverse of the covariance matrix.\n",
    "\n",
    "2. **Overfitting**: Without regularization, the covariance matrices can become too sensitive to noise and variability in the training data. This can lead to overfitting, where the model captures not only the underlying patterns in the data but also the noise, resulting in poor generalization performance on unseen data.\n",
    "\n",
    "3. **Ill-Conditioning**: Covariance matrices estimated from limited data can be ill-conditioned, meaning that they have very small eigenvalues or a large condition number. This ill-conditioning can amplify the effects of noise and make the model less robust.\n",
    "\n",
    "4. **Degenerate Solutions**: In extreme cases, without regularization, the covariance matrices may become degenerate, meaning that they have zero determinants. This implies that the data points in certain dimensions are perfectly correlated, leading to unrealistic and unreliable models.\n",
    "\n",
    "\n",
    "---"
   ]
  },
  {
   "cell_type": "markdown",
   "metadata": {},
   "source": [
    "<font color=\"magenta\">Exercise 2:</font> What happens if you set the value of `c` too high, for instance to one billion? Do you understand why this happens?"
   ]
  },
  {
   "cell_type": "markdown",
   "metadata": {},
   "source": [
    "\n",
    "\n",
    "**Consequences of setting `c` too high in Gaussian generative model regularization:**\n",
    "\n",
    "1. **Over-regularization**: Excessive regularization dominates, ignoring important information in the covariance matrices.\n",
    "\n",
    "2. **Loss of Information**: Overly smoothed covariance matrices lead to loss of data complexity, resulting in suboptimal performance.\n",
    "\n",
    "3. **Underfitting**: Simplistic model fails to capture underlying data patterns, resulting in poor generalization.\n",
    "\n",
    "4. **Decreased Discriminative Power**: Reduced ability to distinguish between classes, leading to higher classification errors.\n",
    "\n",
    "**Summary**: Excessive `c` results in underfitting, loss of information, and reduced model discriminative power. Optimal `c` balancing regularization and data complexity is crucial for model performance.\n",
    "\n",
    "---"
   ]
  },
  {
   "cell_type": "markdown",
   "metadata": {},
   "source": [
    "<font color=\"magenta\">Exercise 3:</font> What value of c did you end up using? How many errors did your model make on the training set?"
   ]
  },
  {
   "cell_type": "markdown",
   "metadata": {},
   "source": [
    "I ended up using a regularization parameter `c` of `1e-2` (0.01) in the Gaussian generative model. \n",
    "\n",
    "The error rates of the model on the test data were as follows:\n",
    "\n",
    "- **Number of errors**: 2190 errors out of 10000 predictions.\n",
    "- **Error rate**: 21.90%\n",
    "\n",
    "This error rate indicates that approximately 21.90% of the predictions made by the model on the test data were incorrect.\n",
    "\n",
    "---"
   ]
  },
  {
   "cell_type": "markdown",
   "metadata": {},
   "source": [
    "<font color=\"magenta\">If you have the time</font>: We have talked about using the same regularization constant `c` for all ten classes. What about using a different value of `c` for each class? How would you go about choosing these? Can you get better performance in this way?"
   ]
  }
 ],
 "metadata": {
  "kernelspec": {
   "display_name": "Python 3",
   "language": "python",
   "name": "python3"
  },
  "language_info": {
   "codemirror_mode": {
    "name": "ipython",
    "version": 3
   },
   "file_extension": ".py",
   "mimetype": "text/x-python",
   "name": "python",
   "nbconvert_exporter": "python",
   "pygments_lexer": "ipython3",
   "version": "3.12.2"
  },
  "toc": {
   "colors": {
    "hover_highlight": "#DAA520",
    "navigate_num": "#000000",
    "navigate_text": "#333333",
    "running_highlight": "#FF0000",
    "selected_highlight": "#FFD700",
    "sidebar_border": "#EEEEEE",
    "wrapper_background": "#FFFFFF"
   },
   "moveMenuLeft": true,
   "nav_menu": {
    "height": "12px",
    "width": "252px"
   },
   "navigate_menu": true,
   "number_sections": false,
   "sideBar": true,
   "threshold": 4,
   "toc_cell": false,
   "toc_section_display": "block",
   "toc_window_display": false,
   "widenNotebook": false
  }
 },
 "nbformat": 4,
 "nbformat_minor": 1
}
